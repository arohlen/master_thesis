{
 "metadata": {
  "language_info": {
   "codemirror_mode": {
    "name": "ipython",
    "version": 3
   },
   "file_extension": ".py",
   "mimetype": "text/x-python",
   "name": "python",
   "nbconvert_exporter": "python",
   "pygments_lexer": "ipython3",
   "version": "3.8.3-final"
  },
  "orig_nbformat": 2,
  "kernelspec": {
   "name": "python3",
   "display_name": "Python 3",
   "language": "python"
  }
 },
 "nbformat": 4,
 "nbformat_minor": 2,
 "cells": [
  {
   "cell_type": "code",
   "execution_count": 1,
   "metadata": {},
   "outputs": [],
   "source": [
    "import h5py\n",
    "import numpy as np\n",
    "filename = \"D:\\Shetty_data\\data_labels\\data_labels.h5\""
   ]
  },
  {
   "cell_type": "code",
   "execution_count": 2,
   "metadata": {},
   "outputs": [],
   "source": [
    "with h5py.File(filename, \"r\") as f:\n",
    "\n",
    "    # Get all the labels\n",
    "    all_sat_LLAHTR = list(f[\"all_sat_LLAHTR\"])\n",
    "    all_uav_LLAHTR = list(f[\"all_uav_LLAHTR\"])\n",
    "    all_uav_xyzHTR = list(f[\"all_uav_xyzHTR\"])\n",
    "    match_array_40 = np.array(list(f[\"match_array_40\"]))\n",
    "    sat300_image_paths = list(f[\"sat300_image_paths\"])\n",
    "    uav_image_paths = list(f[\"uav_image_paths\"])\n"
   ]
  },
  {
   "cell_type": "code",
   "execution_count": 3,
   "metadata": {},
   "outputs": [],
   "source": [
    "import cv2\n",
    "from PIL import Image\n",
    "from torchvision import datasets, models, transforms"
   ]
  },
  {
   "cell_type": "code",
   "execution_count": 4,
   "metadata": {},
   "outputs": [
    {
     "output_type": "stream",
     "name": "stdout",
     "text": [
      "[ 0 10 15]\n"
     ]
    }
   ],
   "source": [
    "path = \"D:/Shetty_data/train/\"\n",
    "\n",
    "uav_path = path+uav_image_paths[0].decode(\"utf-8\")\n",
    "sat_path = path+sat300_image_paths[0].decode(\"utf-8\")\n",
    "\n",
    "print(np.where(match_array_40[0] == True)[0])\n",
    "\n",
    "uav_img = Image.open(uav_path).convert(\"RGB\")\n",
    "sat_img = Image.open(sat_path).convert(\"RGB\")\n",
    "\n",
    "to_tensor = transforms.ToTensor()\n",
    "\n",
    "uav_tensor = to_tensor(uav_img)\n",
    "sat_tensor = to_tensor(sat_img)\n",
    "\n",
    "\n"
   ]
  },
  {
   "cell_type": "code",
   "execution_count": 5,
   "metadata": {},
   "outputs": [
    {
     "output_type": "stream",
     "name": "stdout",
     "text": [
      "139.67791295928356\n"
     ]
    }
   ],
   "source": [
    "index = 22\n",
    "\n",
    "ground_height = all_sat_LLAHTR[index][2]-300\n",
    "print(all_uav_LLAHTR[index][2]-ground_height)"
   ]
  },
  {
   "cell_type": "code",
   "execution_count": 6,
   "metadata": {
    "tags": []
   },
   "outputs": [
    {
     "output_type": "stream",
     "name": "stdout",
     "text": [
      "0\n",
      "1000\n",
      "2000\n",
      "3000\n",
      "4000\n",
      "5000\n",
      "6000\n",
      "7000\n",
      "8000\n",
      "9000\n",
      "10000\n",
      "11000\n",
      "12000\n",
      "13000\n",
      "14000\n",
      "15000\n",
      "16000\n",
      "17000\n",
      "18000\n",
      "19000\n",
      "20000\n",
      "21000\n",
      "22000\n",
      "23000\n",
      "24000\n",
      "25000\n",
      "26000\n",
      "27000\n",
      "28000\n",
      "29000\n",
      "30000\n"
     ]
    }
   ],
   "source": [
    "\n",
    "import random\n",
    "import math\n",
    "\n",
    "uav_image_data = []\n",
    "matching_sat_data = []\n",
    "non_matching_sat_data = []\n",
    "uav_grid = []\n",
    "uav_zHT = []\n",
    "\n",
    "for i in range(len(uav_image_paths)):\n",
    "\n",
    "    matches = np.where(match_array_40[i] == True)[0]\n",
    "\n",
    "    no_match = random.randint(0,len(uav_image_paths))\n",
    "\n",
    "    while no_match in matches:\n",
    "        no_match = random.randint(0,len(uav_image_paths))\n",
    "\n",
    "    uav_path = path+uav_image_paths[i].decode(\"utf-8\")\n",
    "    sat_path = path+sat300_image_paths[i].decode(\"utf-8\")\n",
    "    non_matching_sat = path+sat300_image_paths[no_match].decode(\"utf-8\")\n",
    "\n",
    "    uav_img = Image.open(uav_path).convert(\"RGB\")\n",
    "    sat_img = Image.open(sat_path).convert(\"RGB\")\n",
    "    non_matching_sat_img = Image.open(non_matching_sat).convert(\"RGB\")\n",
    "\n",
    "    to_tensor = transforms.ToTensor()\n",
    "\n",
    "    uav_tensor = to_tensor(uav_img)\n",
    "    sat_tensor = to_tensor(sat_img)\n",
    "    non_matching_sat_tensor = to_tensor(non_matching_sat_img)\n",
    "\n",
    "    # sat images were captured 300m above ground\n",
    "    ground_height = all_sat_LLAHTR[i][2]-300\n",
    "    \n",
    "    #calculate relative UAV height\n",
    "    all_uav_xyzHTR[i][2] = all_uav_LLAHTR[i][2] - ground_height\n",
    "\n",
    "    x = all_uav_xyzHTR[i][0]\n",
    "    y = all_uav_xyzHTR[i][1]\n",
    "\n",
    "    if x >= 200:\n",
    "        x = 199\n",
    "    elif x <= -200:\n",
    "        x = -199\n",
    "\n",
    "    if y >= 200:\n",
    "        y = 199\n",
    "    elif y <= -200:\n",
    "        y = -199\n",
    "\n",
    "\n",
    "    x_grid = math.floor(4 + (x / 50)) if x > 0 else math.ceil(3 + (x / 50))\n",
    "    y_grid = math.floor(4 - (y / 50)) if y > 0 else math.floor(4 - (y / 50))\n",
    "\n",
    "    pos = 8*y_grid + x_grid\n",
    "\n",
    "    # label = [0]*64\n",
    "\n",
    "    # label[pos] = 1\n",
    "\n",
    "    # uav_image_data.append(uav_tensor)\n",
    "    # matching_sat_data.append(sat_tensor)\n",
    "    # non_matching_sat_data.append(non_matching_sat_tensor)\n",
    "    uav_grid.append(pos)\n",
    "    uav_zHT.append(list(all_uav_xyzHTR[i][2:]))\n",
    "\n",
    "    if i%1000 == 0:\n",
    "        print(i)\n",
    "\n",
    "\n",
    "\n",
    "    \n",
    "\n"
   ]
  },
  {
   "cell_type": "code",
   "execution_count": 7,
   "metadata": {},
   "outputs": [],
   "source": [
    "import pickle\n",
    "\n",
    "# with open('D:/Shetty_data/train/uav_image_data.pickle', 'wb') as handle:\n",
    "#     pickle.dump(uav_image_data, handle, protocol=pickle.HIGHEST_PROTOCOL)\n",
    "\n",
    "# with open('D:/Shetty_data/train/matching_sat_data.pickle', 'wb') as handle:\n",
    "#     pickle.dump(matching_sat_data, handle, protocol=pickle.HIGHEST_PROTOCOL)\n",
    "\n",
    "# with open('D:/Shetty_data/train/non_matching_sat_data.pickle', 'wb') as handle:\n",
    "#     pickle.dump(non_matching_sat_data, handle, protocol=pickle.HIGHEST_PROTOCOL)\n",
    "\n",
    "with open('D:/Shetty_data/train/uav_grid_labels.pickle', 'wb') as handle:\n",
    "    pickle.dump(uav_grid, handle, protocol=pickle.HIGHEST_PROTOCOL)\n",
    "\n",
    "with open('D:/Shetty_data/train/uav_zht_labels.pickle', 'wb') as handle:\n",
    "    pickle.dump(uav_zHT, handle, protocol=pickle.HIGHEST_PROTOCOL)\n"
   ]
  },
  {
   "cell_type": "code",
   "execution_count": null,
   "metadata": {},
   "outputs": [],
   "source": []
  }
 ]
}