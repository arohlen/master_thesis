{
 "metadata": {
  "language_info": {
   "codemirror_mode": {
    "name": "ipython",
    "version": 3
   },
   "file_extension": ".py",
   "mimetype": "text/x-python",
   "name": "python",
   "nbconvert_exporter": "python",
   "pygments_lexer": "ipython3",
   "version": "3.8.3-final"
  },
  "orig_nbformat": 2,
  "kernelspec": {
   "name": "python3",
   "display_name": "Python 3.8.3 64-bit",
   "metadata": {
    "interpreter": {
     "hash": "2db524e06e9f5f4ffedc911c917cb75e12dbc923643829bf417064a77eb14d37"
    }
   }
  }
 },
 "nbformat": 4,
 "nbformat_minor": 2,
 "cells": [
  {
   "source": [
    "## Load Data"
   ],
   "cell_type": "markdown",
   "metadata": {}
  },
  {
   "cell_type": "code",
   "execution_count": 1,
   "metadata": {},
   "outputs": [],
   "source": [
    "import pickle\n",
    "\n",
    "with open('D:/Shetty_data/train/uav_image_data.pickle', 'rb') as handle:\n",
    "    uav_data = pickle.load(handle)\n",
    "\n",
    "with open('D:/Shetty_data/train/matching_sat_data.pickle', 'rb') as handle:\n",
    "    sat_data = pickle.load(handle)\n",
    "\n",
    "with open('D:/Shetty_data/train/uav_grid.pickle', 'rb') as handle:\n",
    "    uav_grid = pickle.load(handle)\n",
    "\n",
    "with open('D:/Shetty_data/train/uav_zHT.pickle', 'rb') as handle:\n",
    "    uav_zht = pickle.load(handle)"
   ]
  },
  {
   "source": [
    "## Create training tensors"
   ],
   "cell_type": "markdown",
   "metadata": {}
  },
  {
   "cell_type": "code",
   "execution_count": 2,
   "metadata": {},
   "outputs": [],
   "source": [
    "import torch\n",
    "import numpy as np\n",
    "\n",
    "uav_data = torch.stack(uav_data)\n",
    "sat_data = torch.stack(sat_data)\n",
    "uav_grid = torch.tensor(uav_grid)\n",
    "uav_zht = torch.tensor(uav_zht)"
   ]
  },
  {
   "source": [
    "## Divide data into training and validation"
   ],
   "cell_type": "markdown",
   "metadata": {}
  },
  {
   "cell_type": "code",
   "execution_count": 3,
   "metadata": {},
   "outputs": [],
   "source": [
    "uav_data_validation = uav_data[int(0.8*len(uav_data)):]\n",
    "sat_data_validation = sat_data[int(0.8*len(sat_data)):]\n",
    "uav_grid_validation = uav_grid[int(0.8*len(uav_grid)):]\n",
    "uav_zht_validation = uav_zht[int(0.8*len(uav_zht)):]\n",
    "\n",
    "uav_data = uav_data[:int(0.8*len(uav_data))]\n",
    "sat_data = sat_data[:int(0.8*len(sat_data))]\n",
    "uav_grid = uav_grid[:int(0.8*len(uav_grid))]\n",
    "uav_zht = uav_zht[:int(0.8*len(uav_zht))]"
   ]
  },
  {
   "source": [
    "## Loss function"
   ],
   "cell_type": "markdown",
   "metadata": {}
  },
  {
   "cell_type": "code",
   "execution_count": 4,
   "metadata": {},
   "outputs": [],
   "source": [
    "import torch.nn as nn\n",
    "cross_entropy = nn.CrossEntropyLoss()\n",
    "\n",
    "def loss_func(grid,grid_labels,zht,zht_labels):\n",
    "\n",
    "    alpha = 30\n",
    "    beta = 1.0\n",
    "    gamma = 0.5\n",
    "\n",
    "    loss_grid = cross_entropy(grid,grid_labels)\n",
    "    loss_zht = torch.abs(zht-zht_labels).sum(0)/zht.size()[0]\n",
    "\n",
    "    loss = alpha*loss_grid + loss_zht[0] + beta*loss_zht[1] + gamma*loss_zht[2]\n",
    "\n",
    "    return loss\n",
    "\n"
   ]
  },
  {
   "source": [
    "## Train network"
   ],
   "cell_type": "markdown",
   "metadata": {}
  },
  {
   "cell_type": "code",
   "execution_count": 5,
   "metadata": {
    "tags": []
   },
   "outputs": [
    {
     "output_type": "stream",
     "name": "stdout",
     "text": [
      "[1,    10] loss: 371.055\n",
      "Val loss tensor(291.5291, dtype=torch.float64, grad_fn=<AddBackward0>)\n",
      "[2,    10] loss: 227.659\n",
      "Val loss tensor(244.3579, dtype=torch.float64, grad_fn=<AddBackward0>)\n"
     ]
    },
    {
     "output_type": "error",
     "ename": "KeyboardInterrupt",
     "evalue": "",
     "traceback": [
      "\u001b[1;31m---------------------------------------------------------------------------\u001b[0m",
      "\u001b[1;31mKeyboardInterrupt\u001b[0m                         Traceback (most recent call last)",
      "\u001b[1;32m<ipython-input-5-f724eaa7b1f1>\u001b[0m in \u001b[0;36m<module>\u001b[1;34m\u001b[0m\n\u001b[0;32m     36\u001b[0m \u001b[1;33m\u001b[0m\u001b[0m\n\u001b[0;32m     37\u001b[0m \u001b[1;33m\u001b[0m\u001b[0m\n\u001b[1;32m---> 38\u001b[1;33m         \u001b[0mloss\u001b[0m\u001b[1;33m.\u001b[0m\u001b[0mbackward\u001b[0m\u001b[1;33m(\u001b[0m\u001b[1;33m)\u001b[0m\u001b[1;33m\u001b[0m\u001b[1;33m\u001b[0m\u001b[0m\n\u001b[0m\u001b[0;32m     39\u001b[0m \u001b[1;33m\u001b[0m\u001b[0m\n\u001b[0;32m     40\u001b[0m         \u001b[0moptimizer\u001b[0m\u001b[1;33m.\u001b[0m\u001b[0mstep\u001b[0m\u001b[1;33m(\u001b[0m\u001b[1;33m)\u001b[0m\u001b[1;33m\u001b[0m\u001b[1;33m\u001b[0m\u001b[0m\n",
      "\u001b[1;32mC:\\Python38\\lib\\site-packages\\torch\\tensor.py\u001b[0m in \u001b[0;36mbackward\u001b[1;34m(self, gradient, retain_graph, create_graph)\u001b[0m\n\u001b[0;32m    183\u001b[0m                 \u001b[0mproducts\u001b[0m\u001b[1;33m.\u001b[0m \u001b[0mDefaults\u001b[0m \u001b[0mto\u001b[0m\u001b[0;31m \u001b[0m\u001b[0;31m`\u001b[0m\u001b[0;31m`\u001b[0m\u001b[1;32mFalse\u001b[0m\u001b[0;31m`\u001b[0m\u001b[0;31m`\u001b[0m\u001b[1;33m.\u001b[0m\u001b[1;33m\u001b[0m\u001b[1;33m\u001b[0m\u001b[0m\n\u001b[0;32m    184\u001b[0m         \"\"\"\n\u001b[1;32m--> 185\u001b[1;33m         \u001b[0mtorch\u001b[0m\u001b[1;33m.\u001b[0m\u001b[0mautograd\u001b[0m\u001b[1;33m.\u001b[0m\u001b[0mbackward\u001b[0m\u001b[1;33m(\u001b[0m\u001b[0mself\u001b[0m\u001b[1;33m,\u001b[0m \u001b[0mgradient\u001b[0m\u001b[1;33m,\u001b[0m \u001b[0mretain_graph\u001b[0m\u001b[1;33m,\u001b[0m \u001b[0mcreate_graph\u001b[0m\u001b[1;33m)\u001b[0m\u001b[1;33m\u001b[0m\u001b[1;33m\u001b[0m\u001b[0m\n\u001b[0m\u001b[0;32m    186\u001b[0m \u001b[1;33m\u001b[0m\u001b[0m\n\u001b[0;32m    187\u001b[0m     \u001b[1;32mdef\u001b[0m \u001b[0mregister_hook\u001b[0m\u001b[1;33m(\u001b[0m\u001b[0mself\u001b[0m\u001b[1;33m,\u001b[0m \u001b[0mhook\u001b[0m\u001b[1;33m)\u001b[0m\u001b[1;33m:\u001b[0m\u001b[1;33m\u001b[0m\u001b[1;33m\u001b[0m\u001b[0m\n",
      "\u001b[1;32mC:\\Python38\\lib\\site-packages\\torch\\autograd\\__init__.py\u001b[0m in \u001b[0;36mbackward\u001b[1;34m(tensors, grad_tensors, retain_graph, create_graph, grad_variables)\u001b[0m\n\u001b[0;32m    123\u001b[0m         \u001b[0mretain_graph\u001b[0m \u001b[1;33m=\u001b[0m \u001b[0mcreate_graph\u001b[0m\u001b[1;33m\u001b[0m\u001b[1;33m\u001b[0m\u001b[0m\n\u001b[0;32m    124\u001b[0m \u001b[1;33m\u001b[0m\u001b[0m\n\u001b[1;32m--> 125\u001b[1;33m     Variable._execution_engine.run_backward(\n\u001b[0m\u001b[0;32m    126\u001b[0m         \u001b[0mtensors\u001b[0m\u001b[1;33m,\u001b[0m \u001b[0mgrad_tensors\u001b[0m\u001b[1;33m,\u001b[0m \u001b[0mretain_graph\u001b[0m\u001b[1;33m,\u001b[0m \u001b[0mcreate_graph\u001b[0m\u001b[1;33m,\u001b[0m\u001b[1;33m\u001b[0m\u001b[1;33m\u001b[0m\u001b[0m\n\u001b[0;32m    127\u001b[0m         allow_unreachable=True)  # allow_unreachable flag\n",
      "\u001b[1;31mKeyboardInterrupt\u001b[0m: "
     ]
    }
   ],
   "source": [
    "from torchvision import datasets, models, transforms\n",
    "#from camera_network_resnet import camera_network\n",
    "from camera_network_alexnet import alexnet_siamese as camera_network\n",
    "import torch.optim as optim\n",
    "from sklearn.utils import shuffle\n",
    "\n",
    "\n",
    "camera_model = camera_network()\n",
    "optimizer = optim.Adam(camera_model.parameters(), lr=10e-5)\n",
    "\n",
    "\n",
    "\n",
    "camera_model.train()\n",
    "\n",
    "epochs = 10\n",
    "batch_size = 64\n",
    "\n",
    "for epoch in range(epochs):\n",
    "\n",
    "    uav_data,sat_data,uav_grid,uav_zht = shuffle(uav_data,sat_data,uav_grid,uav_zht)\n",
    "\n",
    "    running_loss = 0.0\n",
    "\n",
    "    for i in range(len(sat_data)//batch_size):\n",
    "\n",
    "        uav_input = uav_data[i*(batch_size):(i+1)*(batch_size)]\n",
    "        sat_input = sat_data[i*(batch_size):(i+1)*(batch_size)]\n",
    "        grid_labels = uav_grid[i*(batch_size):(i+1)*(batch_size)]\n",
    "        zht_labels = uav_zht[i*(batch_size):(i+1)*(batch_size)]\n",
    "\n",
    "        optimizer.zero_grad()\n",
    "\n",
    "        grid,zht = camera_model(uav_input,sat_input)\n",
    "\n",
    "        loss = loss_func(grid,grid_labels,zht,zht_labels)\n",
    "    \n",
    "\n",
    "        loss.backward()\n",
    "\n",
    "        optimizer.step()\n",
    "\n",
    "        running_loss += loss.item()\n",
    "\n",
    "        if i % 10 == 9:    # print every 10 mini-batches\n",
    "            print('[%d, %5d] loss: %.3f' %\n",
    "                  (epoch + 1, i + 1, running_loss / 10))\n",
    "            running_loss = 0.0\n",
    "            grid_validation,zht_validation = camera_model(uav_data_validation,sat_data_validation)\n",
    "            val_loss = loss_func(grid_validation,uav_grid_validation,zht_validation,uav_zht_validation)\n",
    "\n",
    "            print(\"Val loss\",val_loss)\n",
    "\n"
   ]
  },
  {
   "cell_type": "code",
   "execution_count": 7,
   "metadata": {},
   "outputs": [
    {
     "output_type": "stream",
     "name": "stdout",
     "text": [
      "tensor(25)\ntensor([[164.0407, 201.9617,  40.0632]], grad_fn=<AddmmBackward>)\n\ntensor(25)\ntensor([133.4410, 350.1116,  33.3525], dtype=torch.float64)\n"
     ]
    }
   ],
   "source": [
    "\n",
    "\n",
    "\n",
    "grid,zht = camera_model(uav_data[10].unsqueeze(0),sat_data[10].unsqueeze(0))\n",
    "\n",
    "print(torch.argmax(grid))\n",
    "print(zht)\n",
    "print()\n",
    "print(uav_grid[10])\n",
    "print(uav_zht[10])"
   ]
  }
 ]
}