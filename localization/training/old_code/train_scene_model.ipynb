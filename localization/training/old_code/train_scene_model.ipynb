{
 "metadata": {
  "language_info": {
   "codemirror_mode": {
    "name": "ipython",
    "version": 3
   },
   "file_extension": ".py",
   "mimetype": "text/x-python",
   "name": "python",
   "nbconvert_exporter": "python",
   "pygments_lexer": "ipython3",
   "version": "3.8.3-final"
  },
  "orig_nbformat": 2,
  "kernelspec": {
   "name": "python3",
   "display_name": "Python 3",
   "language": "python"
  }
 },
 "nbformat": 4,
 "nbformat_minor": 2,
 "cells": [
  {
   "source": [
    "## Load Data"
   ],
   "cell_type": "markdown",
   "metadata": {}
  },
  {
   "cell_type": "code",
   "execution_count": 1,
   "metadata": {},
   "outputs": [],
   "source": [
    "import pickle\n",
    "\n",
    "with open('D:/Shetty_data/train/uav_image_data.pickle', 'rb') as handle:\n",
    "    matching_uav_data = pickle.load(handle)\n",
    "\n",
    "with open('D:/Shetty_data/train/uav_image_data.pickle', 'rb') as handle:\n",
    "    non_matching_uav_data = pickle.load(handle)\n",
    "\n",
    "with open('D:/Shetty_data/train/matching_sat_data.pickle', 'rb') as handle:\n",
    "    matching_sat_data = pickle.load(handle)\n",
    "\n",
    "with open('D:/Shetty_data/train/non_matching_sat_data.pickle', 'rb') as handle:\n",
    "    non_matching_sat_data = pickle.load(handle)\n"
   ]
  },
  {
   "source": [
    "## Loss Function"
   ],
   "cell_type": "markdown",
   "metadata": {}
  },
  {
   "cell_type": "code",
   "execution_count": 2,
   "metadata": {},
   "outputs": [],
   "source": [
    "import numpy as np\n",
    "\n",
    "def contrastive_loss(d,l):\n",
    "    m = 100\n",
    "    loss = l*torch.pow(d, 2) + (1-l) * torch.pow(torch.clamp(m - d, min=0.0), 2)\n",
    "    return torch.sum(loss)/d.size()[0]"
   ]
  },
  {
   "source": [
    "## Create training tensors"
   ],
   "cell_type": "markdown",
   "metadata": {}
  },
  {
   "cell_type": "code",
   "execution_count": 3,
   "metadata": {
    "tags": []
   },
   "outputs": [],
   "source": [
    "import torch\n",
    "\n",
    "matching_uav_data = torch.stack(matching_uav_data)\n",
    "non_matching_uav_data = torch.stack(non_matching_uav_data)\n",
    "matching_sat_data = torch.stack(matching_sat_data)\n",
    "non_matching_sat_data = torch.stack(non_matching_sat_data)"
   ]
  },
  {
   "source": [
    "## Divide data into training and validation"
   ],
   "cell_type": "markdown",
   "metadata": {}
  },
  {
   "cell_type": "code",
   "execution_count": 4,
   "metadata": {},
   "outputs": [],
   "source": [
    "matching_uav_data_validation = matching_uav_data[int(0.9*len(matching_uav_data)):]\n",
    "non_matching_uav_data_validation = non_matching_uav_data[int(0.9*len(non_matching_uav_data)):]\n",
    "matching_sat_data_validation = matching_sat_data[int(0.9*len(matching_sat_data)):]\n",
    "non_matching_sat_data_validation = non_matching_sat_data[int(0.9*len(non_matching_sat_data)):]\n",
    "\n",
    "\n",
    "matching_uav_data = matching_uav_data[:int(0.9*len(matching_uav_data))]\n",
    "non_matching_uav_data = non_matching_uav_data[:int(0.9*len(non_matching_uav_data))]\n",
    "matching_sat_data = matching_sat_data[:int(0.9*len(matching_sat_data))]\n",
    "non_matching_sat_data = non_matching_sat_data[:int(0.9*len(non_matching_sat_data))]"
   ]
  },
  {
   "source": [
    "## Train network"
   ],
   "cell_type": "markdown",
   "metadata": {}
  },
  {
   "cell_type": "code",
   "execution_count": 5,
   "metadata": {},
   "outputs": [
    {
     "output_type": "stream",
     "name": "stdout",
     "text": [
      "[1,    10] loss: 1816.048\n",
      "Val loss tensor(1995.9780, grad_fn=<DivBackward0>)\n",
      "[1,    20] loss: 1198.937\n",
      "Val loss tensor(1753.0731, grad_fn=<DivBackward0>)\n",
      "[2,    10] loss: 747.797\n",
      "Val loss tensor(2003.6918, grad_fn=<DivBackward0>)\n",
      "[2,    20] loss: 663.638\n",
      "Val loss tensor(1079.5634, grad_fn=<DivBackward0>)\n",
      "[3,    10] loss: 740.455\n",
      "Val loss tensor(1072.9314, grad_fn=<DivBackward0>)\n",
      "[3,    20] loss: 665.277\n",
      "Val loss tensor(1168.0272, grad_fn=<DivBackward0>)\n",
      "[4,    10] loss: 504.485\n",
      "Val loss tensor(700.1854, grad_fn=<DivBackward0>)\n",
      "[4,    20] loss: 483.855\n",
      "Val loss tensor(916.5062, grad_fn=<DivBackward0>)\n",
      "[5,    10] loss: 512.006\n",
      "Val loss tensor(1098.5355, grad_fn=<DivBackward0>)\n",
      "[5,    20] loss: 542.469\n",
      "Val loss tensor(691.7866, grad_fn=<DivBackward0>)\n"
     ]
    },
    {
     "output_type": "error",
     "ename": "KeyboardInterrupt",
     "evalue": "",
     "traceback": [
      "\u001b[1;31m---------------------------------------------------------------------------\u001b[0m",
      "\u001b[1;31mKeyboardInterrupt\u001b[0m                         Traceback (most recent call last)",
      "\u001b[1;32m<ipython-input-5-7d68ab6550d1>\u001b[0m in \u001b[0;36m<module>\u001b[1;34m\u001b[0m\n\u001b[0;32m     43\u001b[0m         \u001b[0mloss\u001b[0m \u001b[1;33m=\u001b[0m \u001b[0mcontrastive_loss\u001b[0m\u001b[1;33m(\u001b[0m\u001b[0md\u001b[0m\u001b[1;33m,\u001b[0m \u001b[0ml\u001b[0m\u001b[1;33m)\u001b[0m\u001b[1;33m\u001b[0m\u001b[1;33m\u001b[0m\u001b[0m\n\u001b[0;32m     44\u001b[0m \u001b[1;33m\u001b[0m\u001b[0m\n\u001b[1;32m---> 45\u001b[1;33m         \u001b[0mloss\u001b[0m\u001b[1;33m.\u001b[0m\u001b[0mbackward\u001b[0m\u001b[1;33m(\u001b[0m\u001b[1;33m)\u001b[0m\u001b[1;33m\u001b[0m\u001b[1;33m\u001b[0m\u001b[0m\n\u001b[0m\u001b[0;32m     46\u001b[0m \u001b[1;33m\u001b[0m\u001b[0m\n\u001b[0;32m     47\u001b[0m         \u001b[0moptimizer\u001b[0m\u001b[1;33m.\u001b[0m\u001b[0mstep\u001b[0m\u001b[1;33m(\u001b[0m\u001b[1;33m)\u001b[0m\u001b[1;33m\u001b[0m\u001b[1;33m\u001b[0m\u001b[0m\n",
      "\u001b[1;32mC:\\Python38\\lib\\site-packages\\torch\\tensor.py\u001b[0m in \u001b[0;36mbackward\u001b[1;34m(self, gradient, retain_graph, create_graph)\u001b[0m\n\u001b[0;32m    183\u001b[0m                 \u001b[0mproducts\u001b[0m\u001b[1;33m.\u001b[0m \u001b[0mDefaults\u001b[0m \u001b[0mto\u001b[0m\u001b[0;31m \u001b[0m\u001b[0;31m`\u001b[0m\u001b[0;31m`\u001b[0m\u001b[1;32mFalse\u001b[0m\u001b[0;31m`\u001b[0m\u001b[0;31m`\u001b[0m\u001b[1;33m.\u001b[0m\u001b[1;33m\u001b[0m\u001b[1;33m\u001b[0m\u001b[0m\n\u001b[0;32m    184\u001b[0m         \"\"\"\n\u001b[1;32m--> 185\u001b[1;33m         \u001b[0mtorch\u001b[0m\u001b[1;33m.\u001b[0m\u001b[0mautograd\u001b[0m\u001b[1;33m.\u001b[0m\u001b[0mbackward\u001b[0m\u001b[1;33m(\u001b[0m\u001b[0mself\u001b[0m\u001b[1;33m,\u001b[0m \u001b[0mgradient\u001b[0m\u001b[1;33m,\u001b[0m \u001b[0mretain_graph\u001b[0m\u001b[1;33m,\u001b[0m \u001b[0mcreate_graph\u001b[0m\u001b[1;33m)\u001b[0m\u001b[1;33m\u001b[0m\u001b[1;33m\u001b[0m\u001b[0m\n\u001b[0m\u001b[0;32m    186\u001b[0m \u001b[1;33m\u001b[0m\u001b[0m\n\u001b[0;32m    187\u001b[0m     \u001b[1;32mdef\u001b[0m \u001b[0mregister_hook\u001b[0m\u001b[1;33m(\u001b[0m\u001b[0mself\u001b[0m\u001b[1;33m,\u001b[0m \u001b[0mhook\u001b[0m\u001b[1;33m)\u001b[0m\u001b[1;33m:\u001b[0m\u001b[1;33m\u001b[0m\u001b[1;33m\u001b[0m\u001b[0m\n",
      "\u001b[1;32mC:\\Python38\\lib\\site-packages\\torch\\autograd\\__init__.py\u001b[0m in \u001b[0;36mbackward\u001b[1;34m(tensors, grad_tensors, retain_graph, create_graph, grad_variables)\u001b[0m\n\u001b[0;32m    123\u001b[0m         \u001b[0mretain_graph\u001b[0m \u001b[1;33m=\u001b[0m \u001b[0mcreate_graph\u001b[0m\u001b[1;33m\u001b[0m\u001b[1;33m\u001b[0m\u001b[0m\n\u001b[0;32m    124\u001b[0m \u001b[1;33m\u001b[0m\u001b[0m\n\u001b[1;32m--> 125\u001b[1;33m     Variable._execution_engine.run_backward(\n\u001b[0m\u001b[0;32m    126\u001b[0m         \u001b[0mtensors\u001b[0m\u001b[1;33m,\u001b[0m \u001b[0mgrad_tensors\u001b[0m\u001b[1;33m,\u001b[0m \u001b[0mretain_graph\u001b[0m\u001b[1;33m,\u001b[0m \u001b[0mcreate_graph\u001b[0m\u001b[1;33m,\u001b[0m\u001b[1;33m\u001b[0m\u001b[1;33m\u001b[0m\u001b[0m\n\u001b[0;32m    127\u001b[0m         allow_unreachable=True)  # allow_unreachable flag\n",
      "\u001b[1;31mKeyboardInterrupt\u001b[0m: "
     ]
    }
   ],
   "source": [
    "from torchvision import datasets, models, transforms\n",
    "from scene_network_alexnet import alexnet_siamese as scene_network\n",
    "import torch.optim as optim\n",
    "from sklearn.utils import shuffle\n",
    "from scene_network_resnet import scene_network as resnet\n",
    "\n",
    "# scene_model = resnet(\"resnet18\")\n",
    "scene_model = scene_network()\n",
    "optimizer = optim.Adam(scene_model.parameters(), lr=10e-5)\n",
    "\n",
    "scene_model.train()\n",
    "\n",
    "uav_validation_data = torch.cat((matching_uav_data_validation,non_matching_uav_data_validation))\n",
    "\n",
    "sat_validation_data = torch.cat((matching_sat_data_validation,non_matching_sat_data_validation))\n",
    "\n",
    "validation_labels = torch.tensor([1]*matching_uav_data_validation.size()[0]+[0]*non_matching_uav_data_validation.size()[0])\n",
    "\n",
    "epochs = 10\n",
    "batch_size = 32\n",
    "\n",
    "for epoch in range(epochs):\n",
    "\n",
    "    matching_uav_data,matching_sat_data = shuffle(matching_uav_data,matching_sat_data)\n",
    "\n",
    "    non_matching_uav_data,non_matching_sat_data = shuffle(non_matching_uav_data,non_matching_sat_data)\n",
    "\n",
    "    running_loss = 0.0\n",
    "\n",
    "    for i in range(len(matching_sat_data)//batch_size):\n",
    "\n",
    "        uav_input = torch.cat((matching_uav_data[i*(batch_size//2):(i+1)*(batch_size//2)],non_matching_uav_data[i*(batch_size//2):(i+1)*(batch_size//2)]))\n",
    "\n",
    "        sat_input = torch.cat((matching_sat_data[i*(batch_size//2):(i+1)*(batch_size//2)],non_matching_sat_data[i*(batch_size//2):(i+1)*(batch_size//2)]))\n",
    "\n",
    "\n",
    "        optimizer.zero_grad()\n",
    "\n",
    "        l = torch.tensor(([1]*(batch_size//2))+[0]*(batch_size//2))\n",
    "\n",
    "        d = scene_model(uav_input,sat_input)\n",
    "\n",
    "        loss = contrastive_loss(d, l)\n",
    "\n",
    "        loss.backward()\n",
    "\n",
    "        optimizer.step()\n",
    "\n",
    "        running_loss += loss.item()\n",
    "\n",
    "        if i % 10 == 9:    # print every 10 mini-batches\n",
    "            print('[%d, %5d] loss: %.3f' %\n",
    "                  (epoch + 1, i + 1, running_loss / 10))\n",
    "            running_loss = 0.0\n",
    "            \n",
    "            d_val = scene_model(uav_validation_data,sat_validation_data)\n",
    "\n",
    "            val_loss = contrastive_loss(d_val,validation_labels)\n",
    "            print(\"Val loss\", val_loss)\n",
    "\n"
   ]
  },
  {
   "cell_type": "code",
   "execution_count": 15,
   "metadata": {},
   "outputs": [
    {
     "output_type": "stream",
     "name": "stdout",
     "text": [
      "tensor([  5.2613, 188.9541], grad_fn=<NormBackward1>)\n"
     ]
    }
   ],
   "source": [
    "from scene_network_alexnet import alexnet_siamese as scene_network\n",
    "i = 90\n",
    "batch_size = 2\n",
    "scene_model = scene_network()\n",
    "\n",
    "uav_input = torch.cat((matching_uav_data[i*(batch_size//2):(i+1)*(batch_size//2)],non_matching_uav_data[i*(batch_size//2):(i+1)*(batch_size//2)]))\n",
    "\n",
    "sat_input = torch.cat((matching_sat_data[i*(batch_size//2):(i+1)*(batch_size//2)],non_matching_sat_data[i*(batch_size//2):(i+1)*(batch_size//2)]))\n",
    "\n",
    "\n",
    "labels = torch.tensor(([1]*(batch_size//2))+[0]*(batch_size//2))\n",
    "\n",
    "distances = scene_model(uav_input,sat_input)\n",
    "\n",
    "# loss = contrastive_loss(distances, labels)\n",
    "\n",
    "print(distances)\n",
    "\n",
    "# print(loss)\n"
   ]
  },
  {
   "cell_type": "code",
   "execution_count": null,
   "metadata": {},
   "outputs": [],
   "source": [
    "from torchvision import datasets, models, transforms\n",
    "from scene_network_alexnet import alexnet_siamese as scene_network\n",
    "import torch.optim as optim\n",
    "from sklearn.utils import shuffle\n",
    "from scene_network_resnet import scene_network as resnet\n",
    "\n",
    "# scene_model = resnet(\"resnet18\")\n",
    "scene_model = scene_network()\n",
    "optimizer = optim.Adam(scene_model.parameters(), lr=10e-5)\n",
    "\n",
    "scene_model.train()\n",
    "\n",
    "uav_validation_data = torch.cat((matching_uav_data_validation,non_matching_uav_data_validation))\n",
    "\n",
    "sat_validation_data = torch.cat((matching_sat_data_validation,non_matching_sat_data_validation))\n",
    "\n",
    "validation_labels = torch.tensor([1]*matching_uav_data_validation.size()[0]+[0]*non_matching_uav_data_validation.size()[0])\n",
    "\n",
    "epochs = 10\n",
    "batch_size = 16\n",
    "\n",
    "for epoch in range(epochs):\n",
    "\n",
    "    matching_uav_data,matching_sat_data = shuffle(matching_uav_data,matching_sat_data)\n",
    "\n",
    "    non_matching_uav_data,non_matching_sat_data = shuffle(non_matching_uav_data,non_matching_sat_data)\n",
    "\n",
    "    running_loss = 0.0\n",
    "\n",
    "    for i in range(len(matching_sat_data)//batch_size):\n",
    "\n",
    "\n",
    "        optimizer.zero_grad()\n",
    "\n",
    "        l = torch.tensor(([1]*(batch_size//2))+[0]*(batch_size//2))\n",
    "\n",
    "        d = scene_model(uav_input,sat_input)\n",
    "\n",
    "\n",
    "        loss = contrastive_loss(d, l)\n",
    "\n",
    "        loss.backward()\n",
    "\n",
    "        optimizer.step()\n",
    "\n",
    "        running_loss += loss.item()\n",
    "\n",
    "        if i % 10 == 9:    # print every 10 mini-batches\n",
    "            print('[%d, %5d] loss: %.3f' %\n",
    "                  (epoch + 1, i + 1, running_loss / 10))\n",
    "            running_loss = 0.0\n",
    "            d_val = scene_model(uav_validation_data,sat_validation_data)\n",
    "\n",
    "            val_loss = contrastive_loss(d_val,validation_labels)\n",
    "            print(\"Val loss\", val_loss)\n",
    "\n"
   ]
  }
 ]
}